{
 "cells": [
  {
   "cell_type": "code",
   "execution_count": 1,
   "metadata": {},
   "outputs": [],
   "source": [
    "import csv\n",
    "import numpy as np\n",
    "import matplotlib.pyplot as plt"
   ]
  },
  {
   "cell_type": "code",
   "execution_count": 2,
   "metadata": {},
   "outputs": [],
   "source": [
    "cost_model_file = '../one-tm-seed-1-pods-4-data/costs_fat_tree_4_pods_1.csv'\n",
    "opt_value_file = '../values_target.csv'\n",
    "learned_value_file = '../values_model_estimated.csv'\n",
    "max_num_steps = 4\n",
    "switch_to_update = set([0, 1, 2, 3, 4, 5, 8, 9, 12, 13, 16, 17])"
   ]
  },
  {
   "cell_type": "code",
   "execution_count": 23,
   "metadata": {},
   "outputs": [],
   "source": [
    "def read_values(file_path):\n",
    "    values = [[] for _ in range(max_num_steps)]\n",
    "    switch_idx = [[] for _ in range(max_num_steps)]\n",
    "    switch_idx_map = [{} for _ in range(max_num_steps)]\n",
    "\n",
    "    with open(file_path) as csv_file:\n",
    "        csv_reader = csv.reader(csv_file, delimiter=',')\n",
    "        for row in csv_reader:\n",
    "            val = float(row[0])\n",
    "            num_steps_left = int(row[1]) - 1  # for idx\n",
    "            \n",
    "            try:\n",
    "                switch = [int(i) for i in row[2:]]\n",
    "            except ValueError:\n",
    "                switch = []\n",
    "            \n",
    "            values[num_steps_left].append(val)\n",
    "            switch_idx[num_steps_left].append(switch)\n",
    "            switch_idx_map[num_steps_left][tuple(sorted(switch))] = val\n",
    "\n",
    "    return values, switch_idx, switch_idx_map"
   ]
  },
  {
   "cell_type": "code",
   "execution_count": 24,
   "metadata": {},
   "outputs": [],
   "source": [
    "def read_cost_model(file_path):\n",
    "    cost_model = {}  # switch_down (sorted) -> cost\n",
    "    \n",
    "    lc = 0\n",
    "    with open(file_path) as csv_file:\n",
    "        csv_reader = csv.reader(csv_file, delimiter=',')\n",
    "        for row in csv_reader:\n",
    "            if lc == 0:\n",
    "                lc += 1\n",
    "                continue\n",
    "                \n",
    "            cost = float(row[0])\n",
    "            switch_down = [int(i) for i in row[1:]]\n",
    "            \n",
    "            switch_key = tuple(sorted(switch_down))\n",
    "            cost_model[switch_key] = cost\n",
    "\n",
    "    return cost_model"
   ]
  },
  {
   "cell_type": "code",
   "execution_count": 26,
   "metadata": {},
   "outputs": [],
   "source": [
    "cost_model = read_cost_model(cost_model_file)\n",
    "opt_values, opt_switch_idx, opt_switch_map = read_values(opt_value_file)\n",
    "learned_values, learned_switch_idx, learned_switch_map = read_values(learned_value_file)"
   ]
  },
  {
   "cell_type": "code",
   "execution_count": 30,
   "metadata": {},
   "outputs": [],
   "source": [
    "if () not in cost_model:\n",
    "    cost_model[()] = 0"
   ]
  },
  {
   "cell_type": "code",
   "execution_count": 40,
   "metadata": {
    "scrolled": true
   },
   "outputs": [
    {
     "name": "stdout",
     "output_type": "stream",
     "text": [
      "Updating switches {0, 1, 2, 3, 4, 5, 8, 9, 12, 13, 16, 17} in 4 steps\n",
      "Optimal total value: 0.3, learned predicted total value: 0.2966504\n",
      "Switches to take down: {0}, cost + future value: 0.0 + 0.288481, cost so far 0.0\n",
      "Updating switches {1, 2, 3, 4, 5, 8, 9, 12, 13, 16, 17} in 3 steps\n",
      "Optimal total value: 0.3, learned predicted total value: 0.288481\n",
      "Switches to take down: {3}, cost + future value: 0.0 + 0.2883607, cost so far 0.0\n",
      "Updating switches {1, 2, 4, 5, 8, 9, 12, 13, 16, 17} in 2 steps\n",
      "Optimal total value: 0.3, learned predicted total value: 0.2883607\n",
      "Switches to take down: {1, 4, 8, 12, 16}, cost + future value: 0.15 + 0.36140227, cost so far 0.15\n",
      "Updating switches {2, 5, 9, 13, 17} in 1 steps\n",
      "Optimal total value: 0.15, learned predicted total value: 0.36140227\n",
      "Switches to take down: {2, 5, 9, 13, 17}, cost 0.15, cost so far 0.3\n"
     ]
    }
   ],
   "source": [
    "switches_left = set(switch_to_update)\n",
    "cost_so_far = 0\n",
    "\n",
    "for i in range(max_num_steps, 0, -1):\n",
    "    print('Updating switches {} in {} steps'.format(\n",
    "      switches_left, i))\n",
    "\n",
    "    step_idx = i - 1\n",
    "    \n",
    "    opt_val = opt_switch_map[step_idx][tuple(sorted(switches_left))]\n",
    "    learned_val = learned_switch_map[step_idx][tuple(sorted(switches_left))]\n",
    "    \n",
    "    print(('Optimal total value: {}, ' + \n",
    "         'learned predicted total value: {}').format(\n",
    "         opt_val, learned_val))\n",
    "    \n",
    "    # plan ahead one step\n",
    "    if i > 1:\n",
    "        cost = np.inf\n",
    "        min_next_val = np.inf\n",
    "        switches_down = set()\n",
    "        for (nv, sl) in zip(learned_values[step_idx - 1], \n",
    "                            learned_switch_idx[step_idx - 1]):\n",
    "\n",
    "            # current switch left should contain next one\n",
    "            if len(set(sl) - switches_left) == 0:\n",
    "                sd = switches_left - set(sl)\n",
    "                c = cost_model[tuple(sorted(sd))]\n",
    "                if nv + c < min_next_val:\n",
    "                    cost = c\n",
    "                    min_next_val = nv + c\n",
    "                    switches_down = sd\n",
    "        \n",
    "        cost_so_far += cost\n",
    "        \n",
    "        print('Switches to take down: {}, cost + future value: {} + {}, cost so far {}'.format(\n",
    "              switches_down, cost, min_next_val - cost, cost_so_far))\n",
    "        \n",
    "        # take down these switches\n",
    "        switches_left -= switches_down\n",
    "    \n",
    "    else:\n",
    "        \n",
    "        cost = cost_model[tuple(sorted(switches_left))]\n",
    "        cost_so_far += cost\n",
    "        print('Switches to take down: {}, cost {}, cost so far {}'.format(\n",
    "            switches_left, cost, cost_so_far))\n"
   ]
  },
  {
   "cell_type": "code",
   "execution_count": null,
   "metadata": {},
   "outputs": [],
   "source": []
  },
  {
   "cell_type": "code",
   "execution_count": null,
   "metadata": {},
   "outputs": [],
   "source": []
  },
  {
   "cell_type": "code",
   "execution_count": null,
   "metadata": {},
   "outputs": [],
   "source": []
  }
 ],
 "metadata": {
  "kernelspec": {
   "display_name": "Python 3",
   "language": "python",
   "name": "python3"
  },
  "language_info": {
   "codemirror_mode": {
    "name": "ipython",
    "version": 3
   },
   "file_extension": ".py",
   "mimetype": "text/x-python",
   "name": "python",
   "nbconvert_exporter": "python",
   "pygments_lexer": "ipython3",
   "version": "3.6.9"
  }
 },
 "nbformat": 4,
 "nbformat_minor": 2
}
