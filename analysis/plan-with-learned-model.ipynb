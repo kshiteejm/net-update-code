{
 "cells": [
  {
   "cell_type": "code",
   "execution_count": 66,
   "metadata": {},
   "outputs": [],
   "source": [
    "import csv\n",
    "import numpy as np\n",
    "import matplotlib.pyplot as plt"
   ]
  },
  {
   "cell_type": "code",
   "execution_count": 67,
   "metadata": {},
   "outputs": [],
   "source": [
    "cost_model_file = '../rust-dp/data/cost_fat_tree_4_pods_1.csv'\n",
    "opt_value_file = '../rust-dp/data/values.csv'\n",
    "learned_value_file = '../rust-dp/data/values.csv'\n",
    "max_num_steps = 4\n",
    "switch_to_update = set([1, 2, 3])"
   ]
  },
  {
   "cell_type": "code",
   "execution_count": 68,
   "metadata": {},
   "outputs": [],
   "source": [
    "def read_values(file_path):\n",
    "    values = [[] for _ in range(max_num_steps)]\n",
    "    switch_idx = [[] for _ in range(max_num_steps)]\n",
    "\n",
    "    with open(file_path) as csv_file:\n",
    "        csv_reader = csv.reader(csv_file, delimiter=',')\n",
    "        for row in csv_reader:\n",
    "            val = float(row[0])\n",
    "            num_steps_left = int(row[1]) - 1  # for idx\n",
    "            switch = [int(i) for i in row[2:]]\n",
    "            \n",
    "            values[num_steps_left].append(val)\n",
    "            switch_idx[num_steps_left].append(switch)\n",
    "\n",
    "    return values, switch_idx"
   ]
  },
  {
   "cell_type": "code",
   "execution_count": 69,
   "metadata": {},
   "outputs": [],
   "source": [
    "def read_cost_model(file_path):\n",
    "    cost_model = {}  # switch_down (sorted) -> cost\n",
    "    \n",
    "    lc = 0\n",
    "    with open(file_path) as csv_file:\n",
    "        csv_reader = csv.reader(csv_file, delimiter=',')\n",
    "        for row in csv_reader:\n",
    "            if lc == 0:\n",
    "                lc += 1\n",
    "                continue\n",
    "                \n",
    "            cost = float(row[0])\n",
    "            switch_down = [int(i) for i in row[1:]]\n",
    "            \n",
    "            switch_key = tuple(sorted(switch_down))\n",
    "            cost_model[switch_key] = cost\n",
    "\n",
    "    return cost_model"
   ]
  },
  {
   "cell_type": "code",
   "execution_count": 70,
   "metadata": {},
   "outputs": [],
   "source": [
    "cost_model = read_cost_model(cost_model_file)\n",
    "opt_values, opt_switch_idx = read_values(opt_value_file)\n",
    "learned_values, learned_switch_idx = read_values(learned_value_file)"
   ]
  },
  {
   "cell_type": "code",
   "execution_count": 76,
   "metadata": {},
   "outputs": [
    {
     "name": "stdout",
     "output_type": "stream",
     "text": [
      "Step 4 left, optimal value: 0.0, learned value: 0.0, cost + next value: 53734.08 + 0.0, cost so far: 53734.08\n",
      "Step 3 left, optimal value: 0.0, learned value: 0.0, cost + next value: 53734.08 + 0.0, cost so far: 107468.16\n",
      "Step 2 left, optimal value: 0.0, learned value: 0.0, cost + next value: 53734.08 + 0.0, cost so far: 161202.24\n",
      "Step 1 left, optimal value: 0.0, learned value: 0.0, cost: 0, cost so far: 161202.24\n"
     ]
    }
   ],
   "source": [
    "switches_left = set(switch_to_update)\n",
    "cost_so_far = 0\n",
    "for i in range(max_num_steps, 0, -1):\n",
    "    step_idx = i - 1\n",
    "    opt_i = np.argmin(opt_values[step_idx])\n",
    "    learned_i = np.argmin(learned_values[step_idx])\n",
    "    if i == 1:\n",
    "        # get cost\n",
    "        if len(switches_left) == 0:\n",
    "            cost = 0\n",
    "        else:\n",
    "            cost = cost_model[tuple(sorted(switches_left))]\n",
    "            \n",
    "        cost_so_far += cost\n",
    "\n",
    "        print(('Step {} left, optimal value: {}, ' + \n",
    "               'learned value: {}, cost: {}, ' + \n",
    "               'cost so far: {}').format(\n",
    "              i, opt_values[step_idx][opt_i],\n",
    "              learned_values[step_idx][learned_i],\n",
    "              cost, cost_so_far))\n",
    "\n",
    "    else:\n",
    "        # plan for the next step\n",
    "        planned_value = []\n",
    "        for (nv, sl) in zip(learned_values[step_idx - 1], \n",
    "                            learned_switch_idx[step_idx - 1]):\n",
    "            if len(set(sl) - switches_left) > 0:\n",
    "                planned_value.append(np.inf)  # switch to update again, no\n",
    "            else:\n",
    "                sd = switches_left - set(sl)\n",
    "                c = cost_model[tuple(sorted(sd))]\n",
    "                planned_value.append(c + nv)\n",
    "        \n",
    "        \n",
    "        l_next_i = np.argmin(planned_value[step_idx - 1])\n",
    "        switches_down = switches_left - set(\n",
    "            learned_switch_idx[step_idx - 1][l_next_i])\n",
    "        \n",
    "        # get cost \n",
    "        cost = cost_model[tuple(sorted(switches_down))]\n",
    "        cost_so_far += cost\n",
    "        switches_left -= switches_down\n",
    "        \n",
    "        # report\n",
    "        print(('Step {} left, optimal value: {}, ' + \n",
    "               'learned value: {}, cost + next value: {} + {}, ' + \n",
    "               'cost so far: {}').format(\n",
    "              i, opt_values[step_idx][opt_i],\n",
    "              learned_values[step_idx][learned_i],\n",
    "              cost, learned_values[step_idx - 1][l_next_i],\n",
    "              cost_so_far))\n",
    "        "
   ]
  },
  {
   "cell_type": "code",
   "execution_count": null,
   "metadata": {},
   "outputs": [],
   "source": []
  }
 ],
 "metadata": {
  "kernelspec": {
   "display_name": "Python 3",
   "language": "python",
   "name": "python3"
  },
  "language_info": {
   "codemirror_mode": {
    "name": "ipython",
    "version": 3
   },
   "file_extension": ".py",
   "mimetype": "text/x-python",
   "name": "python",
   "nbconvert_exporter": "python",
   "pygments_lexer": "ipython3",
   "version": "3.7.3"
  }
 },
 "nbformat": 4,
 "nbformat_minor": 2
}
